{
 "cells": [
  {
   "cell_type": "code",
   "execution_count": 1,
   "metadata": {},
   "outputs": [],
   "source": [
    "'''\n",
    "Steps to get EDBOplus working:\n",
    "1)Create and activate a conda environment\n",
    "2)Download and navigate to the edbopaper directory in a terminal window (or Anaconda prompt window) and pip install -r requirements.txt\n",
    "3)Put this .ipynb file in ANY directory (doesn't matter where it is).\n",
    "4)Set the path to edbopaper in sys.path.append below\n",
    "5)...\n",
    "6)Profit.\n",
    "\n",
    "'''\n",
    "\n",
    "import sys\n",
    "import numpy as np\n",
    "import pandas as pd\n",
    "import matplotlib.pyplot as plt\n",
    "import plotly.express as px\n",
    "import plotly.graph_objects as go\n",
    "\n",
    "\n",
    "sys.path.append('/home/sanjay/AFRL/git_edbo/edbopaper')"
   ]
  },
  {
   "cell_type": "code",
   "execution_count": 2,
   "metadata": {},
   "outputs": [],
   "source": [
    "#import EDBOplus\n",
    "from plus.optimizer_botorch import EDBOplus"
   ]
  },
  {
   "cell_type": "code",
   "execution_count": 3,
   "metadata": {},
   "outputs": [],
   "source": [
    "#setting up reaction components\n",
    "#np.arange creates a list of numbers from (start,stop,stepsize)\n",
    "components = {\n",
    "              'temperature':np.arange(30,140,3).tolist(),   # Discrete grid of concentrations\n",
    "              'time': np.arange(1,45,2).tolist(),\n",
    "              'stoichiometry': np.arange(0.33,0.66,0.025).tolist()}"
   ]
  },
  {
   "cell_type": "code",
   "execution_count": 4,
   "metadata": {},
   "outputs": [],
   "source": [
    "#need to generage the data scope first\n",
    "# scope = EDBOplus.generate_reaction_scope(components=components)"
   ]
  },
  {
   "cell_type": "code",
   "execution_count": 5,
   "metadata": {},
   "outputs": [],
   "source": [
    "#Initialize EDBOplus class that will store predicted means, variances, etc.\n",
    "bo = EDBOplus()\n",
    "\n",
    "args = {'objectives': ['production_rate_(g/hr)','yield'], 'objective_mode': ['max','max'], 'batch': 3, 'seed': 42}\n"
   ]
  },
  {
   "cell_type": "code",
   "execution_count": 6,
   "metadata": {},
   "outputs": [
    {
     "name": "stdout",
     "output_type": "stream",
     "text": [
      "The following columns are categorical and will be encoded using One-Hot-Encoding: ['round']\n",
      "Using EHVI acquisition function.\n",
      "Using hyperparameters optimized for continuous variables.\n",
      "Using hyperparameters optimized for continuous variables.\n",
      "Number of QMC samples: 128\n",
      "Acquisition function optimized.\n",
      "Predictions obtained and expected improvement obtained.\n"
     ]
    },
    {
     "data": {
      "text/html": [
       "<div>\n",
       "<style scoped>\n",
       "    .dataframe tbody tr th:only-of-type {\n",
       "        vertical-align: middle;\n",
       "    }\n",
       "\n",
       "    .dataframe tbody tr th {\n",
       "        vertical-align: top;\n",
       "    }\n",
       "\n",
       "    .dataframe thead th {\n",
       "        text-align: right;\n",
       "    }\n",
       "</style>\n",
       "<table border=\"1\" class=\"dataframe\">\n",
       "  <thead>\n",
       "    <tr style=\"text-align: right;\">\n",
       "      <th></th>\n",
       "      <th>temperature</th>\n",
       "      <th>time</th>\n",
       "      <th>stoichiometry</th>\n",
       "      <th>production_rate_(g/hr)</th>\n",
       "      <th>yield</th>\n",
       "      <th>priority</th>\n",
       "      <th>round</th>\n",
       "    </tr>\n",
       "  </thead>\n",
       "  <tbody>\n",
       "    <tr>\n",
       "      <th>154</th>\n",
       "      <td>138</td>\n",
       "      <td>21</td>\n",
       "      <td>0.655</td>\n",
       "      <td>PENDING</td>\n",
       "      <td>PENDING</td>\n",
       "      <td>1.0</td>\n",
       "      <td>PENDING</td>\n",
       "    </tr>\n",
       "    <tr>\n",
       "      <th>955</th>\n",
       "      <td>129</td>\n",
       "      <td>37</td>\n",
       "      <td>0.580</td>\n",
       "      <td>PENDING</td>\n",
       "      <td>PENDING</td>\n",
       "      <td>1.0</td>\n",
       "      <td>PENDING</td>\n",
       "    </tr>\n",
       "    <tr>\n",
       "      <th>2470</th>\n",
       "      <td>114</td>\n",
       "      <td>39</td>\n",
       "      <td>0.630</td>\n",
       "      <td>PENDING</td>\n",
       "      <td>PENDING</td>\n",
       "      <td>1.0</td>\n",
       "      <td>PENDING</td>\n",
       "    </tr>\n",
       "    <tr>\n",
       "      <th>3</th>\n",
       "      <td>138</td>\n",
       "      <td>43</td>\n",
       "      <td>0.655</td>\n",
       "      <td>PENDING</td>\n",
       "      <td>PENDING</td>\n",
       "      <td>0.0</td>\n",
       "      <td>PENDING</td>\n",
       "    </tr>\n",
       "    <tr>\n",
       "      <th>4</th>\n",
       "      <td>138</td>\n",
       "      <td>43</td>\n",
       "      <td>0.630</td>\n",
       "      <td>PENDING</td>\n",
       "      <td>PENDING</td>\n",
       "      <td>0.0</td>\n",
       "      <td>PENDING</td>\n",
       "    </tr>\n",
       "    <tr>\n",
       "      <th>...</th>\n",
       "      <td>...</td>\n",
       "      <td>...</td>\n",
       "      <td>...</td>\n",
       "      <td>...</td>\n",
       "      <td>...</td>\n",
       "      <td>...</td>\n",
       "      <td>...</td>\n",
       "    </tr>\n",
       "    <tr>\n",
       "      <th>11391</th>\n",
       "      <td>78</td>\n",
       "      <td>23</td>\n",
       "      <td>0.480</td>\n",
       "      <td>3.5</td>\n",
       "      <td>65</td>\n",
       "      <td>-1.0</td>\n",
       "      <td>1</td>\n",
       "    </tr>\n",
       "    <tr>\n",
       "      <th>11392</th>\n",
       "      <td>54</td>\n",
       "      <td>41</td>\n",
       "      <td>0.580</td>\n",
       "      <td>0.6</td>\n",
       "      <td>41</td>\n",
       "      <td>-1.0</td>\n",
       "      <td>1</td>\n",
       "    </tr>\n",
       "    <tr>\n",
       "      <th>11393</th>\n",
       "      <td>54</td>\n",
       "      <td>41</td>\n",
       "      <td>0.480</td>\n",
       "      <td>3.4</td>\n",
       "      <td>66</td>\n",
       "      <td>-1.0</td>\n",
       "      <td>0</td>\n",
       "    </tr>\n",
       "    <tr>\n",
       "      <th>11394</th>\n",
       "      <td>45</td>\n",
       "      <td>29</td>\n",
       "      <td>0.605</td>\n",
       "      <td>0.4</td>\n",
       "      <td>35</td>\n",
       "      <td>-1.0</td>\n",
       "      <td>0</td>\n",
       "    </tr>\n",
       "    <tr>\n",
       "      <th>11395</th>\n",
       "      <td>45</td>\n",
       "      <td>7</td>\n",
       "      <td>0.655</td>\n",
       "      <td>0.2</td>\n",
       "      <td>21</td>\n",
       "      <td>-1.0</td>\n",
       "      <td>0</td>\n",
       "    </tr>\n",
       "  </tbody>\n",
       "</table>\n",
       "<p>11396 rows × 7 columns</p>\n",
       "</div>"
      ],
      "text/plain": [
       "       temperature  time  stoichiometry production_rate_(g/hr)    yield  \\\n",
       "154            138    21          0.655                PENDING  PENDING   \n",
       "955            129    37          0.580                PENDING  PENDING   \n",
       "2470           114    39          0.630                PENDING  PENDING   \n",
       "3              138    43          0.655                PENDING  PENDING   \n",
       "4              138    43          0.630                PENDING  PENDING   \n",
       "...            ...   ...            ...                    ...      ...   \n",
       "11391           78    23          0.480                    3.5       65   \n",
       "11392           54    41          0.580                    0.6       41   \n",
       "11393           54    41          0.480                    3.4       66   \n",
       "11394           45    29          0.605                    0.4       35   \n",
       "11395           45     7          0.655                    0.2       21   \n",
       "\n",
       "       priority    round  \n",
       "154         1.0  PENDING  \n",
       "955         1.0  PENDING  \n",
       "2470        1.0  PENDING  \n",
       "3           0.0  PENDING  \n",
       "4           0.0  PENDING  \n",
       "...         ...      ...  \n",
       "11391      -1.0        1  \n",
       "11392      -1.0        1  \n",
       "11393      -1.0        0  \n",
       "11394      -1.0        0  \n",
       "11395      -1.0        0  \n",
       "\n",
       "[11396 rows x 7 columns]"
      ]
     },
     "execution_count": 6,
     "metadata": {},
     "output_type": "execute_result"
    }
   ],
   "source": [
    "#Run this cell on scope data (csv file called reaction.csv)\n",
    "bo.run(**args)"
   ]
  },
  {
   "cell_type": "code",
   "execution_count": 7,
   "metadata": {},
   "outputs": [],
   "source": [
    "#Update reaction.csv with response values for highest priority samples (or update other priority reactions if you're a rebel and like to do what you want)\n",
    "\n",
    "#Re-run the above cell to train the model and suggest next experiments "
   ]
  },
  {
   "cell_type": "code",
   "execution_count": 8,
   "metadata": {},
   "outputs": [],
   "source": [
    "#convert csv into df\n",
    "\n",
    "#df of reaction data\n",
    "df = pd.read_csv('reaction.csv')\n",
    "#df of reaction data + predictions\n",
    "df2 = pd.read_csv('pred_reaction.csv')\n",
    "\n"
   ]
  },
  {
   "cell_type": "code",
   "execution_count": 9,
   "metadata": {},
   "outputs": [],
   "source": [
    "#Create a df to plot points \n",
    "\n",
    "#turn all pending data to NaN\n",
    "df = df.replace('PENDING',pd.NaT)\n",
    "#delete all the NaN data points \n",
    "df = df.dropna(axis=0)\n",
    "#turn data from string to numeric (the pending made them strings)\n",
    "df['production_rate_(g/hr)'] = df['production_rate_(g/hr)'].apply(pd.to_numeric)\n",
    "df['yield'] = df['yield'].apply(pd.to_numeric)\n",
    "#length of results\n",
    "results_length = []\n",
    "#loop through all results (-1 means it is a result)\n",
    "for i in range(len(df['priority']==-1)):\n",
    "    results_length.append(i)\n",
    "#max value of yield and production\n",
    "max_value_yield = df['yield'].max()\n",
    "max_value_production_rate = df['production_rate_(g/hr)'].max()\n",
    "\n",
    "#convert to numpy array for plotting in plotly\n",
    "pareto_x = df['yield'].to_numpy()\n",
    "pareto_y =df['production_rate_(g/hr)'].to_numpy()\n",
    "\n"
   ]
  },
  {
   "cell_type": "code",
   "execution_count": 21,
   "metadata": {},
   "outputs": [],
   "source": [
    "#plotly scatter plot with pareto front\n",
    "\n",
    "def plot_pareto_frontier(Xs, Ys, maxX=True, maxY=True):\n",
    "    '''Pareto frontier selection process'''\n",
    "    sorted_list = sorted([[Xs[i], Ys[i]] for i in range(len(Xs))], reverse=maxY)\n",
    "    pareto_front = [sorted_list[0]]\n",
    "    for pair in sorted_list[1:]:\n",
    "        if maxY:\n",
    "            if pair[1] >= pareto_front[-1][1]:\n",
    "                pareto_front.append(pair)\n",
    "        else:\n",
    "            if pair[1] <= pareto_front[-1][1]:\n",
    "                pareto_front.append(pair)\n",
    "    pf_X = [pair[0] for pair in pareto_front]\n",
    "    pf_Y = [pair[1] for pair in pareto_front]\n",
    "    fig = px.scatter(df,x='yield', y='production_rate_(g/hr)',\n",
    "    size='yield',color='round',\n",
    "    hover_data=['temperature','time','stoichiometry'],\n",
    "    labels={'yield':'Yield (%)','production_rate_(g/hr)':'Production Rate (g/hr)'})\n",
    "    fig.add_trace(go.Scatter(x=pf_X, y=pf_Y, name= 'Pareto Front',\n",
    "                    line=dict(color='firebrick', width=2)))\n",
    "    fig.update_layout(\n",
    "        title={\n",
    "            'text': \"Multiobjective Optimization of a Continuous Flow Reaction\",\n",
    "            'y':0.9,\n",
    "            'x':0.5,\n",
    "            'xanchor': 'center',\n",
    "            'yanchor': 'top'},\n",
    "            title_y=0.95\n",
    "            )      \n",
    "    fig.show()\n",
    "    print('Highest yield is {}%'.format(df['yield'].max()))\n",
    "    print('Highest production rate is {}g/hr'.format(df['production_rate_(g/hr)'].max()))"
   ]
  },
  {
   "cell_type": "code",
   "execution_count": 22,
   "metadata": {},
   "outputs": [
    {
     "data": {
      "application/vnd.plotly.v1+json": {
       "config": {
        "plotlyServerURL": "https://plot.ly"
       },
       "data": [
        {
         "customdata": [
          [
           138,
           43,
           0.48
          ],
          [
           138,
           41,
           0.33
          ],
          [
           138,
           39,
           0.655
          ]
         ],
         "hovertemplate": "round=9<br>Yield (%)=%{marker.size}<br>Production Rate (g/hr)=%{y}<br>temperature=%{customdata[0]}<br>time=%{customdata[1]}<br>stoichiometry=%{customdata[2]}<extra></extra>",
         "legendgroup": "9",
         "marker": {
          "color": "#636efa",
          "size": [
           55,
           85,
           44
          ],
          "sizemode": "area",
          "sizeref": 0.22,
          "symbol": "circle"
         },
         "mode": "markers",
         "name": "9",
         "orientation": "v",
         "showlegend": true,
         "type": "scatter",
         "x": [
          55,
          85,
          44
         ],
         "xaxis": "x",
         "y": [
          6.5,
          1.2,
          5.1
         ],
         "yaxis": "y"
        },
        {
         "customdata": [
          [
           138,
           21,
           0.605
          ],
          [
           138,
           19,
           0.655
          ],
          [
           135,
           43,
           0.48
          ]
         ],
         "hovertemplate": "round=8<br>Yield (%)=%{marker.size}<br>Production Rate (g/hr)=%{y}<br>temperature=%{customdata[0]}<br>time=%{customdata[1]}<br>stoichiometry=%{customdata[2]}<extra></extra>",
         "legendgroup": "8",
         "marker": {
          "color": "#EF553B",
          "size": [
           55,
           27,
           88
          ],
          "sizemode": "area",
          "sizeref": 0.22,
          "symbol": "circle"
         },
         "mode": "markers",
         "name": "8",
         "orientation": "v",
         "showlegend": true,
         "type": "scatter",
         "x": [
          55,
          27,
          88
         ],
         "xaxis": "x",
         "y": [
          3.7,
          6.2,
          1.9
         ],
         "yaxis": "y"
        },
        {
         "customdata": [
          [
           135,
           43,
           0.43
          ],
          [
           135,
           43,
           0.33
          ],
          [
           135,
           35,
           0.655
          ]
         ],
         "hovertemplate": "round=7<br>Yield (%)=%{marker.size}<br>Production Rate (g/hr)=%{y}<br>temperature=%{customdata[0]}<br>time=%{customdata[1]}<br>stoichiometry=%{customdata[2]}<extra></extra>",
         "legendgroup": "7",
         "marker": {
          "color": "#00cc96",
          "size": [
           63,
           77,
           72
          ],
          "sizemode": "area",
          "sizeref": 0.22,
          "symbol": "circle"
         },
         "mode": "markers",
         "name": "7",
         "orientation": "v",
         "showlegend": true,
         "type": "scatter",
         "x": [
          63,
          77,
          72
         ],
         "xaxis": "x",
         "y": [
          5.2,
          5.5,
          5.3
         ],
         "yaxis": "y"
        },
        {
         "customdata": [
          [
           135,
           27,
           0.58
          ],
          [
           135,
           27,
           0.505
          ],
          [
           135,
           27,
           0.455
          ]
         ],
         "hovertemplate": "round=6<br>Yield (%)=%{marker.size}<br>Production Rate (g/hr)=%{y}<br>temperature=%{customdata[0]}<br>time=%{customdata[1]}<br>stoichiometry=%{customdata[2]}<extra></extra>",
         "legendgroup": "6",
         "marker": {
          "color": "#ab63fa",
          "size": [
           65,
           54,
           44
          ],
          "sizemode": "area",
          "sizeref": 0.22,
          "symbol": "circle"
         },
         "mode": "markers",
         "name": "6",
         "orientation": "v",
         "showlegend": true,
         "type": "scatter",
         "x": [
          65,
          54,
          44
         ],
         "xaxis": "x",
         "y": [
          5.4,
          5.3,
          6.3
         ],
         "yaxis": "y"
        },
        {
         "customdata": [
          [
           135,
           23,
           0.655
          ],
          [
           132,
           37,
           0.405
          ],
          [
           129,
           43,
           0.455
          ]
         ],
         "hovertemplate": "round=5<br>Yield (%)=%{marker.size}<br>Production Rate (g/hr)=%{y}<br>temperature=%{customdata[0]}<br>time=%{customdata[1]}<br>stoichiometry=%{customdata[2]}<extra></extra>",
         "legendgroup": "5",
         "marker": {
          "color": "#FFA15A",
          "size": [
           44,
           70,
           33
          ],
          "sizemode": "area",
          "sizeref": 0.22,
          "symbol": "circle"
         },
         "mode": "markers",
         "name": "5",
         "orientation": "v",
         "showlegend": true,
         "type": "scatter",
         "x": [
          44,
          70,
          33
         ],
         "xaxis": "x",
         "y": [
          3.9,
          1.4,
          6.1
         ],
         "yaxis": "y"
        },
        {
         "customdata": [
          [
           129,
           5,
           0.38
          ],
          [
           126,
           13,
           0.505
          ],
          [
           117,
           41,
           0.48
          ]
         ],
         "hovertemplate": "round=4<br>Yield (%)=%{marker.size}<br>Production Rate (g/hr)=%{y}<br>temperature=%{customdata[0]}<br>time=%{customdata[1]}<br>stoichiometry=%{customdata[2]}<extra></extra>",
         "legendgroup": "4",
         "marker": {
          "color": "#19d3f3",
          "size": [
           33,
           68,
           85
          ],
          "sizemode": "area",
          "sizeref": 0.22,
          "symbol": "circle"
         },
         "mode": "markers",
         "name": "4",
         "orientation": "v",
         "showlegend": true,
         "type": "scatter",
         "x": [
          33,
          68,
          85
         ],
         "xaxis": "x",
         "y": [
          0.4,
          3.8,
          1.7
         ],
         "yaxis": "y"
        },
        {
         "customdata": [
          [
           117,
           37,
           0.48
          ],
          [
           117,
           37,
           0.355
          ],
          [
           117,
           35,
           0.63
          ]
         ],
         "hovertemplate": "round=3<br>Yield (%)=%{marker.size}<br>Production Rate (g/hr)=%{y}<br>temperature=%{customdata[0]}<br>time=%{customdata[1]}<br>stoichiometry=%{customdata[2]}<extra></extra>",
         "legendgroup": "3",
         "marker": {
          "color": "#FF6692",
          "size": [
           86,
           55,
           55
          ],
          "sizemode": "area",
          "sizeref": 0.22,
          "symbol": "circle"
         },
         "mode": "markers",
         "name": "3",
         "orientation": "v",
         "showlegend": true,
         "type": "scatter",
         "x": [
          86,
          55,
          55
         ],
         "xaxis": "x",
         "y": [
          1.8,
          3.8,
          6.3
         ],
         "yaxis": "y"
        },
        {
         "customdata": [
          [
           114,
           43,
           0.455
          ],
          [
           114,
           43,
           0.38
          ],
          [
           114,
           41,
           0.555
          ]
         ],
         "hovertemplate": "round=2<br>Yield (%)=%{marker.size}<br>Production Rate (g/hr)=%{y}<br>temperature=%{customdata[0]}<br>time=%{customdata[1]}<br>stoichiometry=%{customdata[2]}<extra></extra>",
         "legendgroup": "2",
         "marker": {
          "color": "#B6E880",
          "size": [
           87,
           71,
           71
          ],
          "sizemode": "area",
          "sizeref": 0.22,
          "symbol": "circle"
         },
         "mode": "markers",
         "name": "2",
         "orientation": "v",
         "showlegend": true,
         "type": "scatter",
         "x": [
          87,
          71,
          71
         ],
         "xaxis": "x",
         "y": [
          1.9,
          1.2,
          5.6
         ],
         "yaxis": "y"
        },
        {
         "customdata": [
          [
           102,
           23,
           0.405
          ],
          [
           78,
           23,
           0.48
          ],
          [
           54,
           41,
           0.58
          ]
         ],
         "hovertemplate": "round=1<br>Yield (%)=%{marker.size}<br>Production Rate (g/hr)=%{y}<br>temperature=%{customdata[0]}<br>time=%{customdata[1]}<br>stoichiometry=%{customdata[2]}<extra></extra>",
         "legendgroup": "1",
         "marker": {
          "color": "#FF97FF",
          "size": [
           78,
           65,
           41
          ],
          "sizemode": "area",
          "sizeref": 0.22,
          "symbol": "circle"
         },
         "mode": "markers",
         "name": "1",
         "orientation": "v",
         "showlegend": true,
         "type": "scatter",
         "x": [
          78,
          65,
          41
         ],
         "xaxis": "x",
         "y": [
          1.2,
          3.5,
          0.6
         ],
         "yaxis": "y"
        },
        {
         "customdata": [
          [
           54,
           41,
           0.48
          ],
          [
           45,
           29,
           0.605
          ],
          [
           45,
           7,
           0.655
          ]
         ],
         "hovertemplate": "round=0<br>Yield (%)=%{marker.size}<br>Production Rate (g/hr)=%{y}<br>temperature=%{customdata[0]}<br>time=%{customdata[1]}<br>stoichiometry=%{customdata[2]}<extra></extra>",
         "legendgroup": "0",
         "marker": {
          "color": "#FECB52",
          "size": [
           66,
           35,
           21
          ],
          "sizemode": "area",
          "sizeref": 0.22,
          "symbol": "circle"
         },
         "mode": "markers",
         "name": "0",
         "orientation": "v",
         "showlegend": true,
         "type": "scatter",
         "x": [
          66,
          35,
          21
         ],
         "xaxis": "x",
         "y": [
          3.4,
          0.4,
          0.2
         ],
         "yaxis": "y"
        },
        {
         "line": {
          "color": "firebrick",
          "width": 2
         },
         "name": "Pareto Front",
         "type": "scatter",
         "x": [
          88,
          87,
          77,
          71,
          55
         ],
         "y": [
          1.9,
          1.9,
          5.5,
          5.6,
          6.5
         ]
        }
       ],
       "layout": {
        "legend": {
         "itemsizing": "constant",
         "title": {
          "text": "round"
         },
         "tracegroupgap": 0
        },
        "margin": {
         "t": 60
        },
        "template": {
         "data": {
          "bar": [
           {
            "error_x": {
             "color": "#2a3f5f"
            },
            "error_y": {
             "color": "#2a3f5f"
            },
            "marker": {
             "line": {
              "color": "#E5ECF6",
              "width": 0.5
             },
             "pattern": {
              "fillmode": "overlay",
              "size": 10,
              "solidity": 0.2
             }
            },
            "type": "bar"
           }
          ],
          "barpolar": [
           {
            "marker": {
             "line": {
              "color": "#E5ECF6",
              "width": 0.5
             },
             "pattern": {
              "fillmode": "overlay",
              "size": 10,
              "solidity": 0.2
             }
            },
            "type": "barpolar"
           }
          ],
          "carpet": [
           {
            "aaxis": {
             "endlinecolor": "#2a3f5f",
             "gridcolor": "white",
             "linecolor": "white",
             "minorgridcolor": "white",
             "startlinecolor": "#2a3f5f"
            },
            "baxis": {
             "endlinecolor": "#2a3f5f",
             "gridcolor": "white",
             "linecolor": "white",
             "minorgridcolor": "white",
             "startlinecolor": "#2a3f5f"
            },
            "type": "carpet"
           }
          ],
          "choropleth": [
           {
            "colorbar": {
             "outlinewidth": 0,
             "ticks": ""
            },
            "type": "choropleth"
           }
          ],
          "contour": [
           {
            "colorbar": {
             "outlinewidth": 0,
             "ticks": ""
            },
            "colorscale": [
             [
              0,
              "#0d0887"
             ],
             [
              0.1111111111111111,
              "#46039f"
             ],
             [
              0.2222222222222222,
              "#7201a8"
             ],
             [
              0.3333333333333333,
              "#9c179e"
             ],
             [
              0.4444444444444444,
              "#bd3786"
             ],
             [
              0.5555555555555556,
              "#d8576b"
             ],
             [
              0.6666666666666666,
              "#ed7953"
             ],
             [
              0.7777777777777778,
              "#fb9f3a"
             ],
             [
              0.8888888888888888,
              "#fdca26"
             ],
             [
              1,
              "#f0f921"
             ]
            ],
            "type": "contour"
           }
          ],
          "contourcarpet": [
           {
            "colorbar": {
             "outlinewidth": 0,
             "ticks": ""
            },
            "type": "contourcarpet"
           }
          ],
          "heatmap": [
           {
            "colorbar": {
             "outlinewidth": 0,
             "ticks": ""
            },
            "colorscale": [
             [
              0,
              "#0d0887"
             ],
             [
              0.1111111111111111,
              "#46039f"
             ],
             [
              0.2222222222222222,
              "#7201a8"
             ],
             [
              0.3333333333333333,
              "#9c179e"
             ],
             [
              0.4444444444444444,
              "#bd3786"
             ],
             [
              0.5555555555555556,
              "#d8576b"
             ],
             [
              0.6666666666666666,
              "#ed7953"
             ],
             [
              0.7777777777777778,
              "#fb9f3a"
             ],
             [
              0.8888888888888888,
              "#fdca26"
             ],
             [
              1,
              "#f0f921"
             ]
            ],
            "type": "heatmap"
           }
          ],
          "heatmapgl": [
           {
            "colorbar": {
             "outlinewidth": 0,
             "ticks": ""
            },
            "colorscale": [
             [
              0,
              "#0d0887"
             ],
             [
              0.1111111111111111,
              "#46039f"
             ],
             [
              0.2222222222222222,
              "#7201a8"
             ],
             [
              0.3333333333333333,
              "#9c179e"
             ],
             [
              0.4444444444444444,
              "#bd3786"
             ],
             [
              0.5555555555555556,
              "#d8576b"
             ],
             [
              0.6666666666666666,
              "#ed7953"
             ],
             [
              0.7777777777777778,
              "#fb9f3a"
             ],
             [
              0.8888888888888888,
              "#fdca26"
             ],
             [
              1,
              "#f0f921"
             ]
            ],
            "type": "heatmapgl"
           }
          ],
          "histogram": [
           {
            "marker": {
             "pattern": {
              "fillmode": "overlay",
              "size": 10,
              "solidity": 0.2
             }
            },
            "type": "histogram"
           }
          ],
          "histogram2d": [
           {
            "colorbar": {
             "outlinewidth": 0,
             "ticks": ""
            },
            "colorscale": [
             [
              0,
              "#0d0887"
             ],
             [
              0.1111111111111111,
              "#46039f"
             ],
             [
              0.2222222222222222,
              "#7201a8"
             ],
             [
              0.3333333333333333,
              "#9c179e"
             ],
             [
              0.4444444444444444,
              "#bd3786"
             ],
             [
              0.5555555555555556,
              "#d8576b"
             ],
             [
              0.6666666666666666,
              "#ed7953"
             ],
             [
              0.7777777777777778,
              "#fb9f3a"
             ],
             [
              0.8888888888888888,
              "#fdca26"
             ],
             [
              1,
              "#f0f921"
             ]
            ],
            "type": "histogram2d"
           }
          ],
          "histogram2dcontour": [
           {
            "colorbar": {
             "outlinewidth": 0,
             "ticks": ""
            },
            "colorscale": [
             [
              0,
              "#0d0887"
             ],
             [
              0.1111111111111111,
              "#46039f"
             ],
             [
              0.2222222222222222,
              "#7201a8"
             ],
             [
              0.3333333333333333,
              "#9c179e"
             ],
             [
              0.4444444444444444,
              "#bd3786"
             ],
             [
              0.5555555555555556,
              "#d8576b"
             ],
             [
              0.6666666666666666,
              "#ed7953"
             ],
             [
              0.7777777777777778,
              "#fb9f3a"
             ],
             [
              0.8888888888888888,
              "#fdca26"
             ],
             [
              1,
              "#f0f921"
             ]
            ],
            "type": "histogram2dcontour"
           }
          ],
          "mesh3d": [
           {
            "colorbar": {
             "outlinewidth": 0,
             "ticks": ""
            },
            "type": "mesh3d"
           }
          ],
          "parcoords": [
           {
            "line": {
             "colorbar": {
              "outlinewidth": 0,
              "ticks": ""
             }
            },
            "type": "parcoords"
           }
          ],
          "pie": [
           {
            "automargin": true,
            "type": "pie"
           }
          ],
          "scatter": [
           {
            "fillpattern": {
             "fillmode": "overlay",
             "size": 10,
             "solidity": 0.2
            },
            "type": "scatter"
           }
          ],
          "scatter3d": [
           {
            "line": {
             "colorbar": {
              "outlinewidth": 0,
              "ticks": ""
             }
            },
            "marker": {
             "colorbar": {
              "outlinewidth": 0,
              "ticks": ""
             }
            },
            "type": "scatter3d"
           }
          ],
          "scattercarpet": [
           {
            "marker": {
             "colorbar": {
              "outlinewidth": 0,
              "ticks": ""
             }
            },
            "type": "scattercarpet"
           }
          ],
          "scattergeo": [
           {
            "marker": {
             "colorbar": {
              "outlinewidth": 0,
              "ticks": ""
             }
            },
            "type": "scattergeo"
           }
          ],
          "scattergl": [
           {
            "marker": {
             "colorbar": {
              "outlinewidth": 0,
              "ticks": ""
             }
            },
            "type": "scattergl"
           }
          ],
          "scattermapbox": [
           {
            "marker": {
             "colorbar": {
              "outlinewidth": 0,
              "ticks": ""
             }
            },
            "type": "scattermapbox"
           }
          ],
          "scatterpolar": [
           {
            "marker": {
             "colorbar": {
              "outlinewidth": 0,
              "ticks": ""
             }
            },
            "type": "scatterpolar"
           }
          ],
          "scatterpolargl": [
           {
            "marker": {
             "colorbar": {
              "outlinewidth": 0,
              "ticks": ""
             }
            },
            "type": "scatterpolargl"
           }
          ],
          "scatterternary": [
           {
            "marker": {
             "colorbar": {
              "outlinewidth": 0,
              "ticks": ""
             }
            },
            "type": "scatterternary"
           }
          ],
          "surface": [
           {
            "colorbar": {
             "outlinewidth": 0,
             "ticks": ""
            },
            "colorscale": [
             [
              0,
              "#0d0887"
             ],
             [
              0.1111111111111111,
              "#46039f"
             ],
             [
              0.2222222222222222,
              "#7201a8"
             ],
             [
              0.3333333333333333,
              "#9c179e"
             ],
             [
              0.4444444444444444,
              "#bd3786"
             ],
             [
              0.5555555555555556,
              "#d8576b"
             ],
             [
              0.6666666666666666,
              "#ed7953"
             ],
             [
              0.7777777777777778,
              "#fb9f3a"
             ],
             [
              0.8888888888888888,
              "#fdca26"
             ],
             [
              1,
              "#f0f921"
             ]
            ],
            "type": "surface"
           }
          ],
          "table": [
           {
            "cells": {
             "fill": {
              "color": "#EBF0F8"
             },
             "line": {
              "color": "white"
             }
            },
            "header": {
             "fill": {
              "color": "#C8D4E3"
             },
             "line": {
              "color": "white"
             }
            },
            "type": "table"
           }
          ]
         },
         "layout": {
          "annotationdefaults": {
           "arrowcolor": "#2a3f5f",
           "arrowhead": 0,
           "arrowwidth": 1
          },
          "autotypenumbers": "strict",
          "coloraxis": {
           "colorbar": {
            "outlinewidth": 0,
            "ticks": ""
           }
          },
          "colorscale": {
           "diverging": [
            [
             0,
             "#8e0152"
            ],
            [
             0.1,
             "#c51b7d"
            ],
            [
             0.2,
             "#de77ae"
            ],
            [
             0.3,
             "#f1b6da"
            ],
            [
             0.4,
             "#fde0ef"
            ],
            [
             0.5,
             "#f7f7f7"
            ],
            [
             0.6,
             "#e6f5d0"
            ],
            [
             0.7,
             "#b8e186"
            ],
            [
             0.8,
             "#7fbc41"
            ],
            [
             0.9,
             "#4d9221"
            ],
            [
             1,
             "#276419"
            ]
           ],
           "sequential": [
            [
             0,
             "#0d0887"
            ],
            [
             0.1111111111111111,
             "#46039f"
            ],
            [
             0.2222222222222222,
             "#7201a8"
            ],
            [
             0.3333333333333333,
             "#9c179e"
            ],
            [
             0.4444444444444444,
             "#bd3786"
            ],
            [
             0.5555555555555556,
             "#d8576b"
            ],
            [
             0.6666666666666666,
             "#ed7953"
            ],
            [
             0.7777777777777778,
             "#fb9f3a"
            ],
            [
             0.8888888888888888,
             "#fdca26"
            ],
            [
             1,
             "#f0f921"
            ]
           ],
           "sequentialminus": [
            [
             0,
             "#0d0887"
            ],
            [
             0.1111111111111111,
             "#46039f"
            ],
            [
             0.2222222222222222,
             "#7201a8"
            ],
            [
             0.3333333333333333,
             "#9c179e"
            ],
            [
             0.4444444444444444,
             "#bd3786"
            ],
            [
             0.5555555555555556,
             "#d8576b"
            ],
            [
             0.6666666666666666,
             "#ed7953"
            ],
            [
             0.7777777777777778,
             "#fb9f3a"
            ],
            [
             0.8888888888888888,
             "#fdca26"
            ],
            [
             1,
             "#f0f921"
            ]
           ]
          },
          "colorway": [
           "#636efa",
           "#EF553B",
           "#00cc96",
           "#ab63fa",
           "#FFA15A",
           "#19d3f3",
           "#FF6692",
           "#B6E880",
           "#FF97FF",
           "#FECB52"
          ],
          "font": {
           "color": "#2a3f5f"
          },
          "geo": {
           "bgcolor": "white",
           "lakecolor": "white",
           "landcolor": "#E5ECF6",
           "showlakes": true,
           "showland": true,
           "subunitcolor": "white"
          },
          "hoverlabel": {
           "align": "left"
          },
          "hovermode": "closest",
          "mapbox": {
           "style": "light"
          },
          "paper_bgcolor": "white",
          "plot_bgcolor": "#E5ECF6",
          "polar": {
           "angularaxis": {
            "gridcolor": "white",
            "linecolor": "white",
            "ticks": ""
           },
           "bgcolor": "#E5ECF6",
           "radialaxis": {
            "gridcolor": "white",
            "linecolor": "white",
            "ticks": ""
           }
          },
          "scene": {
           "xaxis": {
            "backgroundcolor": "#E5ECF6",
            "gridcolor": "white",
            "gridwidth": 2,
            "linecolor": "white",
            "showbackground": true,
            "ticks": "",
            "zerolinecolor": "white"
           },
           "yaxis": {
            "backgroundcolor": "#E5ECF6",
            "gridcolor": "white",
            "gridwidth": 2,
            "linecolor": "white",
            "showbackground": true,
            "ticks": "",
            "zerolinecolor": "white"
           },
           "zaxis": {
            "backgroundcolor": "#E5ECF6",
            "gridcolor": "white",
            "gridwidth": 2,
            "linecolor": "white",
            "showbackground": true,
            "ticks": "",
            "zerolinecolor": "white"
           }
          },
          "shapedefaults": {
           "line": {
            "color": "#2a3f5f"
           }
          },
          "ternary": {
           "aaxis": {
            "gridcolor": "white",
            "linecolor": "white",
            "ticks": ""
           },
           "baxis": {
            "gridcolor": "white",
            "linecolor": "white",
            "ticks": ""
           },
           "bgcolor": "#E5ECF6",
           "caxis": {
            "gridcolor": "white",
            "linecolor": "white",
            "ticks": ""
           }
          },
          "title": {
           "x": 0.05
          },
          "xaxis": {
           "automargin": true,
           "gridcolor": "white",
           "linecolor": "white",
           "ticks": "",
           "title": {
            "standoff": 15
           },
           "zerolinecolor": "white",
           "zerolinewidth": 2
          },
          "yaxis": {
           "automargin": true,
           "gridcolor": "white",
           "linecolor": "white",
           "ticks": "",
           "title": {
            "standoff": 15
           },
           "zerolinecolor": "white",
           "zerolinewidth": 2
          }
         }
        },
        "title": {
         "text": "Multiobjective Optimization of a Continuous Flow Reaction",
         "x": 0.5,
         "xanchor": "center",
         "y": 0.95,
         "yanchor": "top"
        },
        "xaxis": {
         "anchor": "y",
         "domain": [
          0,
          1
         ],
         "title": {
          "text": "Yield (%)"
         }
        },
        "yaxis": {
         "anchor": "x",
         "domain": [
          0,
          1
         ],
         "title": {
          "text": "Production Rate (g/hr)"
         }
        }
       }
      },
      "text/html": [
       "<div>                            <div id=\"3c9c6b30-e4da-4f5c-9c6c-92366dda6d53\" class=\"plotly-graph-div\" style=\"height:525px; width:100%;\"></div>            <script type=\"text/javascript\">                require([\"plotly\"], function(Plotly) {                    window.PLOTLYENV=window.PLOTLYENV || {};                                    if (document.getElementById(\"3c9c6b30-e4da-4f5c-9c6c-92366dda6d53\")) {                    Plotly.newPlot(                        \"3c9c6b30-e4da-4f5c-9c6c-92366dda6d53\",                        [{\"customdata\":[[138.0,43.0,0.48],[138.0,41.0,0.33],[138.0,39.0,0.655]],\"hovertemplate\":\"round=9<br>Yield (%)=%{marker.size}<br>Production Rate (g/hr)=%{y}<br>temperature=%{customdata[0]}<br>time=%{customdata[1]}<br>stoichiometry=%{customdata[2]}<extra></extra>\",\"legendgroup\":\"9\",\"marker\":{\"color\":\"#636efa\",\"size\":[55,85,44],\"sizemode\":\"area\",\"sizeref\":0.22,\"symbol\":\"circle\"},\"mode\":\"markers\",\"name\":\"9\",\"orientation\":\"v\",\"showlegend\":true,\"x\":[55,85,44],\"xaxis\":\"x\",\"y\":[6.5,1.2,5.1],\"yaxis\":\"y\",\"type\":\"scatter\"},{\"customdata\":[[138.0,21.0,0.605],[138.0,19.0,0.655],[135.0,43.0,0.48]],\"hovertemplate\":\"round=8<br>Yield (%)=%{marker.size}<br>Production Rate (g/hr)=%{y}<br>temperature=%{customdata[0]}<br>time=%{customdata[1]}<br>stoichiometry=%{customdata[2]}<extra></extra>\",\"legendgroup\":\"8\",\"marker\":{\"color\":\"#EF553B\",\"size\":[55,27,88],\"sizemode\":\"area\",\"sizeref\":0.22,\"symbol\":\"circle\"},\"mode\":\"markers\",\"name\":\"8\",\"orientation\":\"v\",\"showlegend\":true,\"x\":[55,27,88],\"xaxis\":\"x\",\"y\":[3.7,6.2,1.9],\"yaxis\":\"y\",\"type\":\"scatter\"},{\"customdata\":[[135.0,43.0,0.43],[135.0,43.0,0.33],[135.0,35.0,0.655]],\"hovertemplate\":\"round=7<br>Yield (%)=%{marker.size}<br>Production Rate (g/hr)=%{y}<br>temperature=%{customdata[0]}<br>time=%{customdata[1]}<br>stoichiometry=%{customdata[2]}<extra></extra>\",\"legendgroup\":\"7\",\"marker\":{\"color\":\"#00cc96\",\"size\":[63,77,72],\"sizemode\":\"area\",\"sizeref\":0.22,\"symbol\":\"circle\"},\"mode\":\"markers\",\"name\":\"7\",\"orientation\":\"v\",\"showlegend\":true,\"x\":[63,77,72],\"xaxis\":\"x\",\"y\":[5.2,5.5,5.3],\"yaxis\":\"y\",\"type\":\"scatter\"},{\"customdata\":[[135.0,27.0,0.58],[135.0,27.0,0.505],[135.0,27.0,0.455]],\"hovertemplate\":\"round=6<br>Yield (%)=%{marker.size}<br>Production Rate (g/hr)=%{y}<br>temperature=%{customdata[0]}<br>time=%{customdata[1]}<br>stoichiometry=%{customdata[2]}<extra></extra>\",\"legendgroup\":\"6\",\"marker\":{\"color\":\"#ab63fa\",\"size\":[65,54,44],\"sizemode\":\"area\",\"sizeref\":0.22,\"symbol\":\"circle\"},\"mode\":\"markers\",\"name\":\"6\",\"orientation\":\"v\",\"showlegend\":true,\"x\":[65,54,44],\"xaxis\":\"x\",\"y\":[5.4,5.3,6.3],\"yaxis\":\"y\",\"type\":\"scatter\"},{\"customdata\":[[135.0,23.0,0.655],[132.0,37.0,0.405],[129.0,43.0,0.455]],\"hovertemplate\":\"round=5<br>Yield (%)=%{marker.size}<br>Production Rate (g/hr)=%{y}<br>temperature=%{customdata[0]}<br>time=%{customdata[1]}<br>stoichiometry=%{customdata[2]}<extra></extra>\",\"legendgroup\":\"5\",\"marker\":{\"color\":\"#FFA15A\",\"size\":[44,70,33],\"sizemode\":\"area\",\"sizeref\":0.22,\"symbol\":\"circle\"},\"mode\":\"markers\",\"name\":\"5\",\"orientation\":\"v\",\"showlegend\":true,\"x\":[44,70,33],\"xaxis\":\"x\",\"y\":[3.9,1.4,6.1],\"yaxis\":\"y\",\"type\":\"scatter\"},{\"customdata\":[[129.0,5.0,0.38],[126.0,13.0,0.505],[117.0,41.0,0.48]],\"hovertemplate\":\"round=4<br>Yield (%)=%{marker.size}<br>Production Rate (g/hr)=%{y}<br>temperature=%{customdata[0]}<br>time=%{customdata[1]}<br>stoichiometry=%{customdata[2]}<extra></extra>\",\"legendgroup\":\"4\",\"marker\":{\"color\":\"#19d3f3\",\"size\":[33,68,85],\"sizemode\":\"area\",\"sizeref\":0.22,\"symbol\":\"circle\"},\"mode\":\"markers\",\"name\":\"4\",\"orientation\":\"v\",\"showlegend\":true,\"x\":[33,68,85],\"xaxis\":\"x\",\"y\":[0.4,3.8,1.7],\"yaxis\":\"y\",\"type\":\"scatter\"},{\"customdata\":[[117.0,37.0,0.48],[117.0,37.0,0.355],[117.0,35.0,0.63]],\"hovertemplate\":\"round=3<br>Yield (%)=%{marker.size}<br>Production Rate (g/hr)=%{y}<br>temperature=%{customdata[0]}<br>time=%{customdata[1]}<br>stoichiometry=%{customdata[2]}<extra></extra>\",\"legendgroup\":\"3\",\"marker\":{\"color\":\"#FF6692\",\"size\":[86,55,55],\"sizemode\":\"area\",\"sizeref\":0.22,\"symbol\":\"circle\"},\"mode\":\"markers\",\"name\":\"3\",\"orientation\":\"v\",\"showlegend\":true,\"x\":[86,55,55],\"xaxis\":\"x\",\"y\":[1.8,3.8,6.3],\"yaxis\":\"y\",\"type\":\"scatter\"},{\"customdata\":[[114.0,43.0,0.455],[114.0,43.0,0.38],[114.0,41.0,0.555]],\"hovertemplate\":\"round=2<br>Yield (%)=%{marker.size}<br>Production Rate (g/hr)=%{y}<br>temperature=%{customdata[0]}<br>time=%{customdata[1]}<br>stoichiometry=%{customdata[2]}<extra></extra>\",\"legendgroup\":\"2\",\"marker\":{\"color\":\"#B6E880\",\"size\":[87,71,71],\"sizemode\":\"area\",\"sizeref\":0.22,\"symbol\":\"circle\"},\"mode\":\"markers\",\"name\":\"2\",\"orientation\":\"v\",\"showlegend\":true,\"x\":[87,71,71],\"xaxis\":\"x\",\"y\":[1.9,1.2,5.6],\"yaxis\":\"y\",\"type\":\"scatter\"},{\"customdata\":[[102.0,23.0,0.405],[78.0,23.0,0.48],[54.0,41.0,0.58]],\"hovertemplate\":\"round=1<br>Yield (%)=%{marker.size}<br>Production Rate (g/hr)=%{y}<br>temperature=%{customdata[0]}<br>time=%{customdata[1]}<br>stoichiometry=%{customdata[2]}<extra></extra>\",\"legendgroup\":\"1\",\"marker\":{\"color\":\"#FF97FF\",\"size\":[78,65,41],\"sizemode\":\"area\",\"sizeref\":0.22,\"symbol\":\"circle\"},\"mode\":\"markers\",\"name\":\"1\",\"orientation\":\"v\",\"showlegend\":true,\"x\":[78,65,41],\"xaxis\":\"x\",\"y\":[1.2,3.5,0.6],\"yaxis\":\"y\",\"type\":\"scatter\"},{\"customdata\":[[54.0,41.0,0.48],[45.0,29.0,0.605],[45.0,7.0,0.655]],\"hovertemplate\":\"round=0<br>Yield (%)=%{marker.size}<br>Production Rate (g/hr)=%{y}<br>temperature=%{customdata[0]}<br>time=%{customdata[1]}<br>stoichiometry=%{customdata[2]}<extra></extra>\",\"legendgroup\":\"0\",\"marker\":{\"color\":\"#FECB52\",\"size\":[66,35,21],\"sizemode\":\"area\",\"sizeref\":0.22,\"symbol\":\"circle\"},\"mode\":\"markers\",\"name\":\"0\",\"orientation\":\"v\",\"showlegend\":true,\"x\":[66,35,21],\"xaxis\":\"x\",\"y\":[3.4,0.4,0.2],\"yaxis\":\"y\",\"type\":\"scatter\"},{\"line\":{\"color\":\"firebrick\",\"width\":2},\"name\":\"Pareto Front\",\"x\":[88,87,77,71,55],\"y\":[1.9,1.9,5.5,5.6,6.5],\"type\":\"scatter\"}],                        {\"template\":{\"data\":{\"histogram2dcontour\":[{\"type\":\"histogram2dcontour\",\"colorbar\":{\"outlinewidth\":0,\"ticks\":\"\"},\"colorscale\":[[0.0,\"#0d0887\"],[0.1111111111111111,\"#46039f\"],[0.2222222222222222,\"#7201a8\"],[0.3333333333333333,\"#9c179e\"],[0.4444444444444444,\"#bd3786\"],[0.5555555555555556,\"#d8576b\"],[0.6666666666666666,\"#ed7953\"],[0.7777777777777778,\"#fb9f3a\"],[0.8888888888888888,\"#fdca26\"],[1.0,\"#f0f921\"]]}],\"choropleth\":[{\"type\":\"choropleth\",\"colorbar\":{\"outlinewidth\":0,\"ticks\":\"\"}}],\"histogram2d\":[{\"type\":\"histogram2d\",\"colorbar\":{\"outlinewidth\":0,\"ticks\":\"\"},\"colorscale\":[[0.0,\"#0d0887\"],[0.1111111111111111,\"#46039f\"],[0.2222222222222222,\"#7201a8\"],[0.3333333333333333,\"#9c179e\"],[0.4444444444444444,\"#bd3786\"],[0.5555555555555556,\"#d8576b\"],[0.6666666666666666,\"#ed7953\"],[0.7777777777777778,\"#fb9f3a\"],[0.8888888888888888,\"#fdca26\"],[1.0,\"#f0f921\"]]}],\"heatmap\":[{\"type\":\"heatmap\",\"colorbar\":{\"outlinewidth\":0,\"ticks\":\"\"},\"colorscale\":[[0.0,\"#0d0887\"],[0.1111111111111111,\"#46039f\"],[0.2222222222222222,\"#7201a8\"],[0.3333333333333333,\"#9c179e\"],[0.4444444444444444,\"#bd3786\"],[0.5555555555555556,\"#d8576b\"],[0.6666666666666666,\"#ed7953\"],[0.7777777777777778,\"#fb9f3a\"],[0.8888888888888888,\"#fdca26\"],[1.0,\"#f0f921\"]]}],\"heatmapgl\":[{\"type\":\"heatmapgl\",\"colorbar\":{\"outlinewidth\":0,\"ticks\":\"\"},\"colorscale\":[[0.0,\"#0d0887\"],[0.1111111111111111,\"#46039f\"],[0.2222222222222222,\"#7201a8\"],[0.3333333333333333,\"#9c179e\"],[0.4444444444444444,\"#bd3786\"],[0.5555555555555556,\"#d8576b\"],[0.6666666666666666,\"#ed7953\"],[0.7777777777777778,\"#fb9f3a\"],[0.8888888888888888,\"#fdca26\"],[1.0,\"#f0f921\"]]}],\"contourcarpet\":[{\"type\":\"contourcarpet\",\"colorbar\":{\"outlinewidth\":0,\"ticks\":\"\"}}],\"contour\":[{\"type\":\"contour\",\"colorbar\":{\"outlinewidth\":0,\"ticks\":\"\"},\"colorscale\":[[0.0,\"#0d0887\"],[0.1111111111111111,\"#46039f\"],[0.2222222222222222,\"#7201a8\"],[0.3333333333333333,\"#9c179e\"],[0.4444444444444444,\"#bd3786\"],[0.5555555555555556,\"#d8576b\"],[0.6666666666666666,\"#ed7953\"],[0.7777777777777778,\"#fb9f3a\"],[0.8888888888888888,\"#fdca26\"],[1.0,\"#f0f921\"]]}],\"surface\":[{\"type\":\"surface\",\"colorbar\":{\"outlinewidth\":0,\"ticks\":\"\"},\"colorscale\":[[0.0,\"#0d0887\"],[0.1111111111111111,\"#46039f\"],[0.2222222222222222,\"#7201a8\"],[0.3333333333333333,\"#9c179e\"],[0.4444444444444444,\"#bd3786\"],[0.5555555555555556,\"#d8576b\"],[0.6666666666666666,\"#ed7953\"],[0.7777777777777778,\"#fb9f3a\"],[0.8888888888888888,\"#fdca26\"],[1.0,\"#f0f921\"]]}],\"mesh3d\":[{\"type\":\"mesh3d\",\"colorbar\":{\"outlinewidth\":0,\"ticks\":\"\"}}],\"scatter\":[{\"fillpattern\":{\"fillmode\":\"overlay\",\"size\":10,\"solidity\":0.2},\"type\":\"scatter\"}],\"parcoords\":[{\"type\":\"parcoords\",\"line\":{\"colorbar\":{\"outlinewidth\":0,\"ticks\":\"\"}}}],\"scatterpolargl\":[{\"type\":\"scatterpolargl\",\"marker\":{\"colorbar\":{\"outlinewidth\":0,\"ticks\":\"\"}}}],\"bar\":[{\"error_x\":{\"color\":\"#2a3f5f\"},\"error_y\":{\"color\":\"#2a3f5f\"},\"marker\":{\"line\":{\"color\":\"#E5ECF6\",\"width\":0.5},\"pattern\":{\"fillmode\":\"overlay\",\"size\":10,\"solidity\":0.2}},\"type\":\"bar\"}],\"scattergeo\":[{\"type\":\"scattergeo\",\"marker\":{\"colorbar\":{\"outlinewidth\":0,\"ticks\":\"\"}}}],\"scatterpolar\":[{\"type\":\"scatterpolar\",\"marker\":{\"colorbar\":{\"outlinewidth\":0,\"ticks\":\"\"}}}],\"histogram\":[{\"marker\":{\"pattern\":{\"fillmode\":\"overlay\",\"size\":10,\"solidity\":0.2}},\"type\":\"histogram\"}],\"scattergl\":[{\"type\":\"scattergl\",\"marker\":{\"colorbar\":{\"outlinewidth\":0,\"ticks\":\"\"}}}],\"scatter3d\":[{\"type\":\"scatter3d\",\"line\":{\"colorbar\":{\"outlinewidth\":0,\"ticks\":\"\"}},\"marker\":{\"colorbar\":{\"outlinewidth\":0,\"ticks\":\"\"}}}],\"scattermapbox\":[{\"type\":\"scattermapbox\",\"marker\":{\"colorbar\":{\"outlinewidth\":0,\"ticks\":\"\"}}}],\"scatterternary\":[{\"type\":\"scatterternary\",\"marker\":{\"colorbar\":{\"outlinewidth\":0,\"ticks\":\"\"}}}],\"scattercarpet\":[{\"type\":\"scattercarpet\",\"marker\":{\"colorbar\":{\"outlinewidth\":0,\"ticks\":\"\"}}}],\"carpet\":[{\"aaxis\":{\"endlinecolor\":\"#2a3f5f\",\"gridcolor\":\"white\",\"linecolor\":\"white\",\"minorgridcolor\":\"white\",\"startlinecolor\":\"#2a3f5f\"},\"baxis\":{\"endlinecolor\":\"#2a3f5f\",\"gridcolor\":\"white\",\"linecolor\":\"white\",\"minorgridcolor\":\"white\",\"startlinecolor\":\"#2a3f5f\"},\"type\":\"carpet\"}],\"table\":[{\"cells\":{\"fill\":{\"color\":\"#EBF0F8\"},\"line\":{\"color\":\"white\"}},\"header\":{\"fill\":{\"color\":\"#C8D4E3\"},\"line\":{\"color\":\"white\"}},\"type\":\"table\"}],\"barpolar\":[{\"marker\":{\"line\":{\"color\":\"#E5ECF6\",\"width\":0.5},\"pattern\":{\"fillmode\":\"overlay\",\"size\":10,\"solidity\":0.2}},\"type\":\"barpolar\"}],\"pie\":[{\"automargin\":true,\"type\":\"pie\"}]},\"layout\":{\"autotypenumbers\":\"strict\",\"colorway\":[\"#636efa\",\"#EF553B\",\"#00cc96\",\"#ab63fa\",\"#FFA15A\",\"#19d3f3\",\"#FF6692\",\"#B6E880\",\"#FF97FF\",\"#FECB52\"],\"font\":{\"color\":\"#2a3f5f\"},\"hovermode\":\"closest\",\"hoverlabel\":{\"align\":\"left\"},\"paper_bgcolor\":\"white\",\"plot_bgcolor\":\"#E5ECF6\",\"polar\":{\"bgcolor\":\"#E5ECF6\",\"angularaxis\":{\"gridcolor\":\"white\",\"linecolor\":\"white\",\"ticks\":\"\"},\"radialaxis\":{\"gridcolor\":\"white\",\"linecolor\":\"white\",\"ticks\":\"\"}},\"ternary\":{\"bgcolor\":\"#E5ECF6\",\"aaxis\":{\"gridcolor\":\"white\",\"linecolor\":\"white\",\"ticks\":\"\"},\"baxis\":{\"gridcolor\":\"white\",\"linecolor\":\"white\",\"ticks\":\"\"},\"caxis\":{\"gridcolor\":\"white\",\"linecolor\":\"white\",\"ticks\":\"\"}},\"coloraxis\":{\"colorbar\":{\"outlinewidth\":0,\"ticks\":\"\"}},\"colorscale\":{\"sequential\":[[0.0,\"#0d0887\"],[0.1111111111111111,\"#46039f\"],[0.2222222222222222,\"#7201a8\"],[0.3333333333333333,\"#9c179e\"],[0.4444444444444444,\"#bd3786\"],[0.5555555555555556,\"#d8576b\"],[0.6666666666666666,\"#ed7953\"],[0.7777777777777778,\"#fb9f3a\"],[0.8888888888888888,\"#fdca26\"],[1.0,\"#f0f921\"]],\"sequentialminus\":[[0.0,\"#0d0887\"],[0.1111111111111111,\"#46039f\"],[0.2222222222222222,\"#7201a8\"],[0.3333333333333333,\"#9c179e\"],[0.4444444444444444,\"#bd3786\"],[0.5555555555555556,\"#d8576b\"],[0.6666666666666666,\"#ed7953\"],[0.7777777777777778,\"#fb9f3a\"],[0.8888888888888888,\"#fdca26\"],[1.0,\"#f0f921\"]],\"diverging\":[[0,\"#8e0152\"],[0.1,\"#c51b7d\"],[0.2,\"#de77ae\"],[0.3,\"#f1b6da\"],[0.4,\"#fde0ef\"],[0.5,\"#f7f7f7\"],[0.6,\"#e6f5d0\"],[0.7,\"#b8e186\"],[0.8,\"#7fbc41\"],[0.9,\"#4d9221\"],[1,\"#276419\"]]},\"xaxis\":{\"gridcolor\":\"white\",\"linecolor\":\"white\",\"ticks\":\"\",\"title\":{\"standoff\":15},\"zerolinecolor\":\"white\",\"automargin\":true,\"zerolinewidth\":2},\"yaxis\":{\"gridcolor\":\"white\",\"linecolor\":\"white\",\"ticks\":\"\",\"title\":{\"standoff\":15},\"zerolinecolor\":\"white\",\"automargin\":true,\"zerolinewidth\":2},\"scene\":{\"xaxis\":{\"backgroundcolor\":\"#E5ECF6\",\"gridcolor\":\"white\",\"linecolor\":\"white\",\"showbackground\":true,\"ticks\":\"\",\"zerolinecolor\":\"white\",\"gridwidth\":2},\"yaxis\":{\"backgroundcolor\":\"#E5ECF6\",\"gridcolor\":\"white\",\"linecolor\":\"white\",\"showbackground\":true,\"ticks\":\"\",\"zerolinecolor\":\"white\",\"gridwidth\":2},\"zaxis\":{\"backgroundcolor\":\"#E5ECF6\",\"gridcolor\":\"white\",\"linecolor\":\"white\",\"showbackground\":true,\"ticks\":\"\",\"zerolinecolor\":\"white\",\"gridwidth\":2}},\"shapedefaults\":{\"line\":{\"color\":\"#2a3f5f\"}},\"annotationdefaults\":{\"arrowcolor\":\"#2a3f5f\",\"arrowhead\":0,\"arrowwidth\":1},\"geo\":{\"bgcolor\":\"white\",\"landcolor\":\"#E5ECF6\",\"subunitcolor\":\"white\",\"showland\":true,\"showlakes\":true,\"lakecolor\":\"white\"},\"title\":{\"x\":0.05},\"mapbox\":{\"style\":\"light\"}}},\"xaxis\":{\"anchor\":\"y\",\"domain\":[0.0,1.0],\"title\":{\"text\":\"Yield (%)\"}},\"yaxis\":{\"anchor\":\"x\",\"domain\":[0.0,1.0],\"title\":{\"text\":\"Production Rate (g/hr)\"}},\"legend\":{\"title\":{\"text\":\"round\"},\"tracegroupgap\":0,\"itemsizing\":\"constant\"},\"margin\":{\"t\":60},\"title\":{\"text\":\"Multiobjective Optimization of a Continuous Flow Reaction\",\"y\":0.95,\"x\":0.5,\"xanchor\":\"center\",\"yanchor\":\"top\"}},                        {\"responsive\": true}                    ).then(function(){\n",
       "                            \n",
       "var gd = document.getElementById('3c9c6b30-e4da-4f5c-9c6c-92366dda6d53');\n",
       "var x = new MutationObserver(function (mutations, observer) {{\n",
       "        var display = window.getComputedStyle(gd).display;\n",
       "        if (!display || display === 'none') {{\n",
       "            console.log([gd, 'removed!']);\n",
       "            Plotly.purge(gd);\n",
       "            observer.disconnect();\n",
       "        }}\n",
       "}});\n",
       "\n",
       "// Listen for the removal of the full notebook cells\n",
       "var notebookContainer = gd.closest('#notebook-container');\n",
       "if (notebookContainer) {{\n",
       "    x.observe(notebookContainer, {childList: true});\n",
       "}}\n",
       "\n",
       "// Listen for the clearing of the current output cell\n",
       "var outputEl = gd.closest('.output');\n",
       "if (outputEl) {{\n",
       "    x.observe(outputEl, {childList: true});\n",
       "}}\n",
       "\n",
       "                        })                };                });            </script>        </div>"
      ]
     },
     "metadata": {},
     "output_type": "display_data"
    },
    {
     "name": "stdout",
     "output_type": "stream",
     "text": [
      "Highest yield is 88%\n",
      "Highest production rate is 6.5g/hr\n"
     ]
    }
   ],
   "source": [
    "#View plots\n",
    "plot_pareto_frontier(pareto_x, pareto_y)"
   ]
  }
 ],
 "metadata": {
  "interpreter": {
   "hash": "7d7853da7980f0e4e0ac24366fbd3cff45b394ce9d89800577587dfb3387848c"
  },
  "kernelspec": {
   "display_name": "Python 3.9.12 ('edbo_plus3': conda)",
   "language": "python",
   "name": "python3"
  },
  "language_info": {
   "codemirror_mode": {
    "name": "ipython",
    "version": 3
   },
   "file_extension": ".py",
   "mimetype": "text/x-python",
   "name": "python",
   "nbconvert_exporter": "python",
   "pygments_lexer": "ipython3",
   "version": "3.7.13"
  },
  "orig_nbformat": 2
 },
 "nbformat": 4,
 "nbformat_minor": 2
}
